{
 "cells": [
  {
   "cell_type": "code",
   "execution_count": null,
   "metadata": {},
   "outputs": [],
   "source": [
    "# Multiple Linear Regression\n",
    "\n",
    "# 1.Importing the libraries\n",
    "import numpy as np\n",
    "import matplotlib.pyplot as plt\n",
    "import pandas as pd\n",
    "from sklearn.compose import ColumnTransformer\n",
    "from sklearn.preprocessing import OneHotEncoder\n",
    "\n",
    "# 2.Importing the dataset\n",
    "dataset1 = pd.read_csv('C:/Tejinder/student-mat.csv', sep=';', header=0)  # Header is in the first row\n",
    "dataset2 = pd.read_csv('C:/Tejinder/student-por.csv', sep=';', header=0)  # Header is in the first row\n",
    "\n",
    "X = dataset1.iloc[:, :-1].values\n",
    "y = dataset1.iloc[:, -1].values\n",
    "# print(X) \n",
    "# print(dataset1.columns)\n",
    "# Count the number of rows\n",
    "# row_count = dataset1.shape[0]  # Number of rows\n",
    "#print(f\"Number of rows: {row_count}\")\n",
    "#dataset1.to_csv('C:/Tejinder/SDS/Student Performance Analysis/student+performance/student/output.csv', index=False)\n",
    "\n",
    "# 3.Encoding categorical data\n",
    "from sklearn.compose import ColumnTransformer\n",
    "from sklearn.preprocessing import OneHotEncoder\n",
    "# Features to encode\n",
    "categorical_features_indices = [ 0,1,3,4,5,8,9,10,11,15,16,17,18,19,20,21,22]\n",
    "ct = ColumnTransformer(transformers=[('encoder', OneHotEncoder(), categorical_features_indices)], remainder='passthrough')\n",
    "X = np.array(ct.fit_transform(X))\n",
    "# print(X)\n",
    "\n",
    "\n",
    "# 4.Splitting the dataset into the Training set and Test set\n",
    "from sklearn.model_selection import train_test_split\n",
    "X_train, X_test, y_train, y_test = train_test_split(X, y, test_size = 0.2, random_state = 0)\n",
    "\n",
    "\n",
    "# row_count = X_train.shape[0]  # Number of rows\n",
    "# print(f\"Number of rows: {row_count}\")\n",
    "\n",
    "# Training the Multiple Linear Regression model on the Training set\n",
    "from sklearn.linear_model import LinearRegression\n",
    "regressor = LinearRegression()\n",
    "regressor.fit(X_train, y_train)\n",
    "\n",
    "\n",
    "# Predicting the Test set results\n",
    "y_pred = regressor.predict(X_test)\n",
    "np.set_printoptions(precision=2)\n",
    "print(np.concatenate((y_pred.reshape(len(y_pred),1), y_test.reshape(len(y_test),1)),1))\n",
    "\n",
    "\n",
    "\n",
    "\n",
    "\n"
   ]
  }
 ],
 "metadata": {
  "kernelspec": {
   "display_name": "base",
   "language": "python",
   "name": "python3"
  },
  "language_info": {
   "codemirror_mode": {
    "name": "ipython",
    "version": 3
   },
   "file_extension": ".py",
   "mimetype": "text/x-python",
   "name": "python",
   "nbconvert_exporter": "python",
   "pygments_lexer": "ipython3",
   "version": "3.12.7"
  }
 },
 "nbformat": 4,
 "nbformat_minor": 2
}
