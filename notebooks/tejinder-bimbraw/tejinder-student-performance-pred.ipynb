{
 "cells": [
  {
   "cell_type": "code",
   "execution_count": 18,
   "metadata": {},
   "outputs": [
    {
     "name": "stdout",
     "output_type": "stream",
     "text": [
      "[['GP' 'F' 18 ... 4 0 11]\n",
      " ['GP' 'F' 17 ... 2 9 11]\n",
      " ['GP' 'F' 15 ... 6 12 13]\n",
      " ...\n",
      " ['MS' 'F' 18 ... 6 11 12]\n",
      " ['MS' 'M' 17 ... 6 10 10]\n",
      " ['MS' 'M' 18 ... 4 10 11]]\n",
      "Index(['school', 'sex', 'age', 'address', 'famsize', 'Pstatus', 'Medu', 'Fedu',\n",
      "       'Mjob', 'Fjob', 'reason', 'guardian_x', 'traveltime_x', 'studytime_x',\n",
      "       'failures_x', 'schoolsup_x', 'famsup_x', 'paid_x', 'activities_x',\n",
      "       'nursery', 'higher_x', 'internet', 'romantic_x', 'famrel_x',\n",
      "       'freetime_x', 'goout_x', 'Dalc_x', 'Walc_x', 'health_x', 'absences_x',\n",
      "       'G1_x', 'G2_x', 'G3_x', 'guardian_y', 'traveltime_y', 'studytime_y',\n",
      "       'failures_y', 'schoolsup_y', 'famsup_y', 'paid_y', 'activities_y',\n",
      "       'higher_y', 'romantic_y', 'famrel_y', 'freetime_y', 'goout_y', 'Dalc_y',\n",
      "       'Walc_y', 'health_y', 'absences_y', 'G1_y', 'G2_y', 'G3_y'],\n",
      "      dtype='object')\n",
      "Number of rows: 382\n"
     ]
    }
   ],
   "source": [
    "# Multiple Linear Regression\n",
    "\n",
    "# Importing the libraries\n",
    "import numpy as np\n",
    "import matplotlib.pyplot as plt\n",
    "import pandas as pd\n",
    "\n",
    "# Importing the dataset\n",
    "dataset1 = pd.read_csv('C:/Tejinder/student-mat.csv', sep=';', header=0)  # Header is in the first row\n",
    "dataset2 = pd.read_csv('C:/Tejinder/student-por.csv', sep=';', header=0)  # Header is in the first row\n",
    "dataset3 = pd.merge(dataset1, dataset2, on= ['school','sex','age','address','famsize','Pstatus','Medu','Fedu','Mjob','Fjob','reason','nursery','internet'], how='inner')\n",
    "\n",
    "X = dataset3.iloc[:, :-1].values\n",
    "y = dataset3.iloc[:, -1].values\n",
    "print(X)\n",
    "print(dataset3.columns)\n",
    "# Count the number of rows\n",
    "row_count = dataset3.shape[0]  # Number of rows\n",
    "print(f\"Number of rows: {row_count}\")\n",
    "dataset3.to_csv('C:/Tejinder/SDS/Student Performance Analysis/student+performance/student/output.csv', index=False)\n",
    "\n",
    "\n",
    "\n",
    "\n",
    "\n",
    "\n",
    "\n",
    "\n",
    "\n",
    "\n",
    "\n",
    "\n",
    "\n"
   ]
  }
 ],
 "metadata": {
  "kernelspec": {
   "display_name": "base",
   "language": "python",
   "name": "python3"
  },
  "language_info": {
   "codemirror_mode": {
    "name": "ipython",
    "version": 3
   },
   "file_extension": ".py",
   "mimetype": "text/x-python",
   "name": "python",
   "nbconvert_exporter": "python",
   "pygments_lexer": "ipython3",
   "version": "3.12.7"
  }
 },
 "nbformat": 4,
 "nbformat_minor": 2
}
