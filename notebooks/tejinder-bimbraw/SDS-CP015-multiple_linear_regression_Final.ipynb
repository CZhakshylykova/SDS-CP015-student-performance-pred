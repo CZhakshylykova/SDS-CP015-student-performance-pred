{
 "cells": [
  {
   "cell_type": "markdown",
   "metadata": {
    "colab_type": "text",
    "id": "CazISR8X_HUG"
   },
   "source": [
    "# Multiple Linear Regression"
   ]
  },
  {
   "cell_type": "markdown",
   "metadata": {
    "colab_type": "text",
    "id": "pOyqYHTk_Q57"
   },
   "source": [
    "## Importing the libraries"
   ]
  },
  {
   "cell_type": "code",
   "execution_count": 3,
   "metadata": {
    "colab": {},
    "colab_type": "code",
    "id": "T_YHJjnD_Tja"
   },
   "outputs": [],
   "source": [
    "\n",
    "import pandas as pd\n",
    "import numpy as np\n",
    "import matplotlib.pyplot as plt\n",
    "\n",
    "from sklearn.compose import ColumnTransformer\n",
    "\n",
    "import seaborn as sns\n",
    "from sklearn.preprocessing import StandardScaler\n",
    "from sklearn.pipeline import make_pipeline\n",
    "from sklearn.model_selection import KFold\n",
    "from sklearn.neighbors import KNeighborsRegressor\n",
    "from sklearn.metrics import mean_squared_error, r2_score\n",
    "from sklearn.model_selection import cross_val_predict\n",
    "from sklearn.linear_model import LinearRegression\n",
    "from math import sqrt\n",
    "\n",
    "from mlxtend.feature_selection import SequentialFeatureSelector as SFS\n",
    "\n",
    "from sklearn.preprocessing import OneHotEncoder"
   ]
  },
  {
   "cell_type": "markdown",
   "metadata": {},
   "source": [
    "## START THE PROCESS OF FEATURE SELECTION HERE"
   ]
  },
  {
   "cell_type": "markdown",
   "metadata": {},
   "source": [
    "### Import the Data"
   ]
  },
  {
   "cell_type": "code",
   "execution_count": 4,
   "metadata": {},
   "outputs": [
    {
     "name": "stdout",
     "output_type": "stream",
     "text": [
      "school        object\n",
      "sex           object\n",
      "age            int64\n",
      "address       object\n",
      "famsize       object\n",
      "Pstatus       object\n",
      "Medu           int64\n",
      "Fedu           int64\n",
      "Mjob          object\n",
      "Fjob          object\n",
      "reason        object\n",
      "guardian      object\n",
      "traveltime     int64\n",
      "studytime      int64\n",
      "failures       int64\n",
      "schoolsup     object\n",
      "famsup        object\n",
      "paid          object\n",
      "activities    object\n",
      "nursery       object\n",
      "higher        object\n",
      "internet      object\n",
      "romantic      object\n",
      "famrel         int64\n",
      "freetime       int64\n",
      "goout          int64\n",
      "Dalc           int64\n",
      "Walc           int64\n",
      "health         int64\n",
      "absences       int64\n",
      "G1             int64\n",
      "G2             int64\n",
      "G3             int64\n",
      "dtype: object\n",
      "school        object\n",
      "sex           object\n",
      "age            int64\n",
      "address       object\n",
      "famsize       object\n",
      "Pstatus       object\n",
      "Medu           int64\n",
      "Fedu           int64\n",
      "Mjob          object\n",
      "Fjob          object\n",
      "reason        object\n",
      "guardian      object\n",
      "traveltime     int64\n",
      "studytime      int64\n",
      "failures       int64\n",
      "schoolsup     object\n",
      "famsup        object\n",
      "paid          object\n",
      "activities    object\n",
      "nursery       object\n",
      "higher        object\n",
      "internet      object\n",
      "romantic      object\n",
      "famrel         int64\n",
      "freetime       int64\n",
      "goout          int64\n",
      "Dalc           int64\n",
      "Walc           int64\n",
      "health         int64\n",
      "absences       int64\n",
      "G1             int64\n",
      "G2             int64\n",
      "G3             int64\n",
      "dtype: object\n"
     ]
    }
   ],
   "source": [
    "\n",
    "\n",
    "# Load dataset\n",
    "\n",
    "Math = pd.read_csv('C:/Tejinder/SDS/Student Performance Analysis/student+performance/student/student-mat.csv', sep=';', header=0)  # Header is in the first row\n",
    "Portug = pd.read_csv('C:/Tejinder/SDS/Student Performance Analysis/student+performance/student//student-por.csv', sep=';', header=0)  # Header is in the first row\n",
    "\n",
    "print (Math.dtypes)\n",
    "print(Portug.dtypes)\n",
    "\n",
    "\n"
   ]
  },
  {
   "cell_type": "markdown",
   "metadata": {},
   "source": [
    "### Identify the Categorical and Numerical Columns to enable Label enconding"
   ]
  },
  {
   "cell_type": "code",
   "execution_count": 5,
   "metadata": {},
   "outputs": [
    {
     "name": "stdout",
     "output_type": "stream",
     "text": [
      "['school', 'sex', 'address', 'famsize', 'Pstatus', 'Mjob', 'Fjob', 'reason', 'guardian', 'schoolsup', 'famsup', 'paid', 'activities', 'nursery', 'higher', 'internet', 'romantic', 'school', 'sex', 'age', 'address', 'famsize', 'Pstatus', 'Medu', 'Fedu', 'Mjob', 'Fjob', 'reason', 'guardian', 'traveltime', 'studytime', 'failures', 'schoolsup', 'famsup', 'paid', 'activities', 'nursery', 'higher', 'internet', 'romantic', 'famrel', 'freetime', 'goout', 'Dalc', 'Walc', 'health', 'absences', 'G1', 'G2']\n"
     ]
    }
   ],
   "source": [
    "# data = pd.read_csv('student-mat.csv', sep=';')  # Replace with your file path\n",
    "categorical_features_indices = Math.select_dtypes(include=['object', 'category'])\n",
    "\n",
    "# Drop G3 (target) from numerical features\n",
    "numerical_features_indices = [Math.columns[i] for i in range(Math.shape[1]) \n",
    "                              if i not in categorical_features_indices and Math.columns[i] != 'G3']\n",
    "\n",
    "all_feature_names = list (categorical_features_indices ) + list( numerical_features_indices )\n",
    "print(all_feature_names)"
   ]
  },
  {
   "cell_type": "markdown",
   "metadata": {},
   "source": [
    "### Label Encoding"
   ]
  },
  {
   "cell_type": "code",
   "execution_count": 6,
   "metadata": {},
   "outputs": [
    {
     "name": "stdout",
     "output_type": "stream",
     "text": [
      "\n",
      "DataFrame after Label Encoding:\n",
      "     school  sex  age  address  famsize  Pstatus  Medu  Fedu  Mjob  Fjob  ...  \\\n",
      "0         0    0   18        1        0        0     4     4     0     4  ...   \n",
      "1         0    0   17        1        0        1     1     1     0     2  ...   \n",
      "2         0    0   15        1        1        1     1     1     0     2  ...   \n",
      "3         0    0   15        1        0        1     4     2     1     3  ...   \n",
      "4         0    0   16        1        0        1     3     3     2     2  ...   \n",
      "..      ...  ...  ...      ...      ...      ...   ...   ...   ...   ...  ...   \n",
      "390       1    1   20        1        1        0     2     2     3     3  ...   \n",
      "391       1    1   17        1        1        1     3     1     3     3  ...   \n",
      "392       1    1   21        0        0        1     1     1     2     2  ...   \n",
      "393       1    1   18        0        1        1     3     2     3     2  ...   \n",
      "394       1    1   19        1        1        1     1     1     2     0  ...   \n",
      "\n",
      "     famrel  freetime  goout  Dalc  Walc  health  absences  G1  G2  G3  \n",
      "0         4         3      4     1     1       3         6   5   6   6  \n",
      "1         5         3      3     1     1       3         4   5   5   6  \n",
      "2         4         3      2     2     3       3        10   7   8  10  \n",
      "3         3         2      2     1     1       5         2  15  14  15  \n",
      "4         4         3      2     1     2       5         4   6  10  10  \n",
      "..      ...       ...    ...   ...   ...     ...       ...  ..  ..  ..  \n",
      "390       5         5      4     4     5       4        11   9   9   9  \n",
      "391       2         4      5     3     4       2         3  14  16  16  \n",
      "392       5         5      3     3     3       3         3  10   8   7  \n",
      "393       4         4      1     3     4       5         0  11  12  10  \n",
      "394       3         2      3     3     3       5         5   8   9   9  \n",
      "\n",
      "[395 rows x 33 columns]\n"
     ]
    }
   ],
   "source": [
    "# Preprocessing: Encode categorical features\n",
    "\n",
    "from sklearn.preprocessing import LabelEncoder\n",
    "\n",
    "# Initialize LabelEncoder\n",
    "label_encoders = {}\n",
    "\n",
    "# Apply LabelEncoder to each categorical column\n",
    "for col in categorical_features_indices:\n",
    "    le = LabelEncoder()\n",
    "    Math[col] = le.fit_transform(Math[col])\n",
    "    label_encoders[col] = le  # Store the encoder for future use if needed\n",
    "\n",
    "print(\"\\nDataFrame after Label Encoding:\")\n",
    "print(Math)\n"
   ]
  },
  {
   "cell_type": "markdown",
   "metadata": {},
   "source": [
    "### Dividing the Dataframe into X and y as well as Test and Train"
   ]
  },
  {
   "cell_type": "code",
   "execution_count": 25,
   "metadata": {},
   "outputs": [
    {
     "name": "stdout",
     "output_type": "stream",
     "text": [
      "     absences  higher  famrel  G1  G2\n",
      "23          0       1       5  13  13\n",
      "296         0       1       2  10   9\n",
      "13          2       1       5  10  10\n",
      "249         0       1       4  13  15\n",
      "61          6       1       5  10   8\n",
      "..        ...     ...     ...  ..  ..\n",
      "203        18       1       5   7   6\n",
      "255         2       1       4   7   9\n",
      "72          2       1       3   8   6\n",
      "235        10       1       5  11   9\n",
      "37          7       1       2  15  16\n",
      "\n",
      "[316 rows x 5 columns]\n",
      "     absences  higher  famrel  G1  G2\n",
      "146         0       1       3   6   7\n",
      "379        17       1       4  10  10\n",
      "247        16       0       5   6   8\n",
      "197         8       1       3   9   9\n",
      "368         0       1       5  11  10\n",
      "..        ...     ...     ...  ..  ..\n",
      "41          8       1       5  12  12\n",
      "204         6       1       5  10  10\n",
      "362         0       1       4  11  11\n",
      "233         2       1       4  14  13\n",
      "275         6       1       4  12  12\n",
      "\n",
      "[79 rows x 5 columns]\n"
     ]
    }
   ],
   "source": [
    "# Importing the dataset\n",
    "X = Math.iloc[:, :-1]\n",
    "y = Math.iloc[:, -1]\n",
    "\n",
    "\n",
    "# Splitting the dataset into the Training set and Test set\n",
    "from sklearn.model_selection import train_test_split\n",
    "X_train_all, X_test_all, y_train, y_test = train_test_split(X, y, test_size = 0.2, random_state = 1)\n",
    "#print(X_train)\n",
    "#print(X_test)\n",
    "#print(y_train)\n",
    "#print(y_test)\n",
    "columns_to_keep = ['absences','higher','famrel','G1','G2']\n",
    "X_train = X_train_all[columns_to_keep]\n",
    "X_test=X_test_all[columns_to_keep]\n",
    "print(X_train)\n",
    "print(X_test)"
   ]
  },
  {
   "cell_type": "markdown",
   "metadata": {},
   "source": [
    "## XGBOOST and model performance\n"
   ]
  },
  {
   "cell_type": "code",
   "execution_count": 26,
   "metadata": {},
   "outputs": [
    {
     "name": "stdout",
     "output_type": "stream",
     "text": [
      "R-squared: 0.84555983543396\n",
      "Test Mean Squared Error: 2.111481695476064\n",
      "MAPE: 67982752951148240.00%\n"
     ]
    }
   ],
   "source": [
    "# Training XGBoost on the Training set\n",
    "from xgboost import XGBRegressor\n",
    "from sklearn.metrics import mean_absolute_percentage_error\n",
    "\n",
    "xgboostmodel = XGBRegressor(n_estimators=50, learning_rate=0.1)\n",
    "xgboostmodel.fit(X_train, y_train)\n",
    "y_pred = xgboostmodel.predict(X_test)\n",
    "r2 = r2_score(y_test, y_pred)\n",
    "print(f\"R-squared: {r2}\")\n",
    "mse = mean_squared_error(y_test, y_pred)\n",
    "print(f\"Test Mean Squared Error: {mse}\")\n",
    "mape = mean_absolute_percentage_error(y_test, y_pred)\n",
    "print(f\"MAPE: {mape * 100:.2f}%\")\n",
    "# Save the trained model\n",
    "#joblib.dump(xgboostmodel, 'xgboost_model.pkl')"
   ]
  },
  {
   "cell_type": "code",
   "execution_count": 27,
   "metadata": {},
   "outputs": [
    {
     "name": "stdout",
     "output_type": "stream",
     "text": [
      "R-squared scores for each fold: [0.8982318  0.83618879 0.81873196 0.93465918 0.76103693 0.85769647\n",
      " 0.68523324 0.87543714 0.92748076 0.90814197]\n",
      "Average R-squared: 0.8503\n"
     ]
    }
   ],
   "source": [
    "# Applying k-Fold Cross Validation\n",
    "from sklearn.model_selection import KFold, cross_val_score,GridSearchCV \n",
    "from sklearn.metrics import make_scorer, r2_score, mean_absolute_percentage_error\n",
    "\n",
    "# Define custom MAPE scoring function\n",
    "def mape_scorer(y_true, y_pred):\n",
    "    return mean_absolute_percentage_error(y_true, y_pred)\n",
    "# Set up K-Fold Cross Validation\n",
    "kf = KFold(n_splits=10, shuffle=True, random_state=0)\n",
    "r2_scores = cross_val_score(xgboostmodel, X, y, cv=kf, scoring='r2')\n",
    "\n",
    "# Print out the results\n",
    "print(f\"R-squared scores for each fold: {r2_scores}\")\n",
    "print(f\"Average R-squared: {r2_scores.mean():.4f}\")\n"
   ]
  },
  {
   "cell_type": "code",
   "execution_count": 28,
   "metadata": {},
   "outputs": [
    {
     "name": "stdout",
     "output_type": "stream",
     "text": [
      "Fitting 10 folds for each of 243 candidates, totalling 2430 fits\n",
      "Best Hyperparameters: {'colsample_bytree': 1.0, 'learning_rate': 0.1, 'max_depth': 3, 'n_estimators': 50, 'subsample': 0.8}\n",
      "R-squared scores for each fold: [0.85629171 0.85545176 0.85195452 0.92278898 0.83223325 0.9000237\n",
      " 0.79977494 0.87236077 0.96696502 0.91651487]\n",
      "Average R-squared: 0.8774\n",
      "MAPE scores for each fold: [1.67497025e+15 2.01631251e+15 1.77098587e+15 2.90484275e+14\n",
      " 7.28889290e+14 3.89982032e+14 9.30767208e+14 8.22539353e+14\n",
      " 2.48223412e+14 1.16249954e+15]\n",
      "Average MAPE: 100356537405165232.00%\n"
     ]
    }
   ],
   "source": [
    "# Define the hyperparameter grid to search\n",
    "param_grid = {\n",
    "    'n_estimators': [50, 100, 150],\n",
    "    'learning_rate': [0.01, 0.05, 0.1],\n",
    "    'max_depth': [3, 6, 9],\n",
    "    'subsample': [0.7, 0.8, 1.0],\n",
    "    'colsample_bytree': [0.7, 0.8, 1.0]\n",
    "}\n",
    "\n",
    "# Set up GridSearchCV with KFold cross-validation\n",
    "grid_search = GridSearchCV(estimator=xgboostmodel,\n",
    "                           param_grid=param_grid,\n",
    "                           scoring='r2',  # R-squared as the scoring metric\n",
    "                           cv=kf,\n",
    "                           verbose=1,  # Print progress\n",
    "                           n_jobs=-1)  # Use all available cores\n",
    "\n",
    "# Fit the model using GridSearchCV\n",
    "grid_search.fit(X, y)\n",
    "\n",
    "# Print the best hyperparameters found by GridSearchCV\n",
    "print(f\"Best Hyperparameters: {grid_search.best_params_}\")\n",
    "\n",
    "# Best model after tuning\n",
    "best_model = grid_search.best_estimator_\n",
    "\n",
    "# Evaluate the model using K-Fold Cross Validation (R-squared and MAPE)\n",
    "r2_scores = cross_val_score(best_model, X, y, cv=kf, scoring='r2')\n",
    "mape_scores = cross_val_score(best_model, X, y, cv=kf, scoring=make_scorer(mape_scorer))\n",
    "\n",
    "# Print out the results\n",
    "print(f\"R-squared scores for each fold: {r2_scores}\")\n",
    "print(f\"Average R-squared: {r2_scores.mean():.4f}\")\n",
    "\n",
    "print(f\"MAPE scores for each fold: {mape_scores}\")\n",
    "print(f\"Average MAPE: {mape_scores.mean() * 100:.2f}%\")"
   ]
  }
 ],
 "metadata": {
  "colab": {
   "authorship_tag": "ABX9TyPKgdwz54xQOEOK5GD93nk2",
   "collapsed_sections": [],
   "name": "Copy of multiple_linear_regression.ipynb",
   "provenance": [],
   "toc_visible": true
  },
  "kernelspec": {
   "display_name": "base",
   "language": "python",
   "name": "python3"
  },
  "language_info": {
   "codemirror_mode": {
    "name": "ipython",
    "version": 3
   },
   "file_extension": ".py",
   "mimetype": "text/x-python",
   "name": "python",
   "nbconvert_exporter": "python",
   "pygments_lexer": "ipython3",
   "version": "3.12.7"
  }
 },
 "nbformat": 4,
 "nbformat_minor": 0
}
