{
 "cells": [
  {
   "cell_type": "code",
   "execution_count": null,
   "metadata": {
    "vscode": {
     "languageId": "plaintext"
    }
   },
   "outputs": [],
   "source": [
    "import pandas as pandas\n",
    "import numpy as np\n",
    "# git status : see the changes\n",
    "# git add .\n",
    "# git commit -m \"added libraries\" \n",
    "# run the git push command: in ordert to tell the git where it need to go: git push -u origin main\n",
    "# git config --global user.email \"email@example.com\"\n",
    "Shaheer Airaj Ahmed\n",
    "16:38\n",
    "git config --global user.name \"username\"\n"
   ]
  }
 ],
 "metadata": {
  "language_info": {
   "name": "python"
  }
 },
 "nbformat": 4,
 "nbformat_minor": 2
}
